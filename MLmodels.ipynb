{
 "cells": [
  {
   "cell_type": "markdown",
   "metadata": {},
   "source": [
    "# Machine Learning COMS3007 - Assignment 2019 \n",
    "\n",
    "# By Nadia Salgado, Lethabo Mokoena\n",
    "\n",
    "## Classification problem: Classifying medical benefits from bodily the effects, strain and type of cannabis.\n",
    "## Naive Bayes Model"
   ]
  },
  {
   "cell_type": "code",
   "execution_count": 1,
   "metadata": {},
   "outputs": [],
   "source": [
    "#Initialization Cell (Run this cell first)\n",
    "import csv\n",
    "import numpy as np\n",
    "import matplotlib.pyplot as plt\n",
    "from sklearn.model_selection import train_test_split\n",
    "import itertools\n",
    "import pandas as pd\n",
    "import math\n",
    "from collections import Counter"
   ]
  },
  {
   "cell_type": "code",
   "execution_count": 2,
   "metadata": {
    "scrolled": false
   },
   "outputs": [],
   "source": [
    "#Loading the data\n",
    "def loadBodeff():\n",
    "    data = pd.read_csv('final.csv')\n",
    "    X = data['Effects']\n",
    "    y = data['Medical_Benefits']\n",
    "    return(X, y)\n",
    "\n",
    "def loadType():\n",
    "    data = pd.read_csv('final.csv')\n",
    "    X = list(data['Type'])\n",
    "    y = list(data['Medical_Benefits'])\n",
    "    return(X, y)\n",
    "\n",
    "def loadFlavour():\n",
    "    data = pd.read_csv('final.csv')\n",
    "    X = list(data['Flavor'])\n",
    "    y = list(data['Medical_Benefits'])\n",
    "    return(X, y)"
   ]
  },
  {
   "cell_type": "code",
   "execution_count": 3,
   "metadata": {},
   "outputs": [],
   "source": [
    "def splitData1(X, y):    \n",
    "    X_train, X_test, y_train, y_test = train_test_split(X, y, test_size=0.2)\n",
    "    return X_train, X_test, y_train, y_test    "
   ]
  },
  {
   "cell_type": "code",
   "execution_count": 4,
   "metadata": {},
   "outputs": [],
   "source": [
    "def splitData2(X, y):\n",
    "    X_train, X_test, y_train, y_test = train_test_split(X, y, test_size=0.4)\n",
    "    return X_train,X_test,y_train,y_test"
   ]
  },
  {
   "cell_type": "code",
   "execution_count": 5,
   "metadata": {},
   "outputs": [],
   "source": [
    "# Grouping/Separating by Class \n",
    "def separateByClass(y_train, X_train):\n",
    "    data = {'Class':y_train, 'Features':X_train}\n",
    "    df = pd.DataFrame(data)\n",
    "    return df"
   ]
  },
  {
   "cell_type": "code",
   "execution_count": 6,
   "metadata": {},
   "outputs": [],
   "source": [
    "def count_class_in_feature(df):\n",
    "    y = []\n",
    "    medbens = []\n",
    "    types = []\n",
    "    nums = []\n",
    "    \n",
    "    finals = []\n",
    "    mdict = {}\n",
    "    \n",
    "    grouped = df.groupby('Features')\n",
    "    for key,item in grouped:\n",
    "        s = grouped.get_group(key)\n",
    "        y.append(s)\n",
    "    for lst in y:\n",
    "        for medben in lst['Class'].unique():\n",
    "            types.append(lst['Features'].unique())\n",
    "            medbens.append(medben)            \n",
    "            nums.append(lst[lst.Class == medben].count()[0])\n",
    "            zipoo = zip(medbens, nums)\n",
    "        dict1 = dict(zipoo)\n",
    "        finals.append ([lst['Features'].unique()[0], dict1])\n",
    "    return finals"
   ]
  },
  {
   "cell_type": "code",
   "execution_count": 7,
   "metadata": {},
   "outputs": [],
   "source": [
    "def prob_class_feat(finals, df):\n",
    "    \n",
    "    probfeat = []\n",
    "    probclass = []\n",
    "    \n",
    "    total_feat = df['Features'].count()\n",
    "    total_class = df['Class'].count()\n",
    "    \n",
    "    for feat in df['Features'].unique():\n",
    "        no = df[df.Features == feat].count()\n",
    "        probfeat.append([feat,no[0]/total_feat])\n",
    "        \n",
    "    for word in df['Class'].unique():\n",
    "        no = df[df.Class == word].count()\n",
    "        probclass.append([word,no[0]/float(total_class)])\n",
    "\n",
    "    return probfeat, probclass"
   ]
  },
  {
   "cell_type": "code",
   "execution_count": 99,
   "metadata": {},
   "outputs": [],
   "source": [
    "def calc_priors(df, finals):\n",
    "    \n",
    "    priorx = []\n",
    "    feats = []\n",
    "    counts = []\n",
    "    \n",
    "# Getting the totals of the features in a dict\n",
    "    for word in df['Features'].unique():\n",
    "        no = df[df.Features == word].count()\n",
    "        feats.append(word)\n",
    "        counts.append(no[0])\n",
    "        nz = zip(feats, counts)\n",
    "    dictx = dict(nz)\n",
    "        \n",
    "# Calculating the P(x) using the dict values\n",
    "    for i in dictx.keys():\n",
    "        for x in finals:\n",
    "            if i == x[0]:\n",
    "                redict = x[1]  \n",
    "                for j in redict.keys():    \n",
    "                    prob = redict[j]/dictx[i]\n",
    "                    priorx.append([i, j, prob])\n",
    "                    \n",
    "    return(priorx, len(df['Features'].unique()) - 1)"
   ]
  },
  {
   "cell_type": "code",
   "execution_count": 101,
   "metadata": {
    "scrolled": false
   },
   "outputs": [
    {
     "data": {
      "text/plain": [
       "'None'"
      ]
     },
     "execution_count": 101,
     "metadata": {},
     "output_type": "execute_result"
    }
   ],
   "source": [
    "def naive(x, number, probfeat, probclass, priorx):\n",
    "    \n",
    "    fordenom = []\n",
    "    num = []\n",
    "    denom = []\n",
    "    maxx = 0\n",
    "    \n",
    "    prob = 1\n",
    "    final = 1\n",
    "    denominator = 0\n",
    "    \n",
    "    for j in probclass:\n",
    "        for i in priorx:\n",
    "            if i[1] == j[0]:\n",
    "\n",
    "                prob *= i[2]\n",
    "\n",
    "        \n",
    "        gprob = prob\n",
    "\n",
    "        num.append([j[0],(gprob * j[1])+1])\n",
    "        prob = 1\n",
    "   \n",
    "# Calculating the denominator\n",
    "\n",
    "    for i in priorx:\n",
    "        for j in probclass:\n",
    "            if i[0] == x and i[1] == j[0]:\n",
    "                denominator += (i[2] * j[1])\n",
    "\n",
    "    denominator += number\n",
    "    \n",
    "    for index in range(len(num)):\n",
    "        p = num[index][1]/denominator\n",
    "        if p > maxx:\n",
    "            maxx = p\n",
    "            out = num[index][0]\n",
    "    return out\n",
    "x, y = loadType()\n",
    "xtrain,xtest, ytrain, ytest = splitData1(x, y)\n",
    "df = separateByClass(ytrain, xtrain)\n",
    "finals = count_class_in_feature(df)\n",
    "probfeat, probclass, = prob_class_feat(finals, df)\n",
    "priorx, number = calc_priors(df, finals)\n",
    "naive('indica', number, probfeat, probclass, priorx)"
   ]
  },
  {
   "cell_type": "code",
   "execution_count": null,
   "metadata": {},
   "outputs": [],
   "source": []
  },
  {
   "cell_type": "code",
   "execution_count": 11,
   "metadata": {},
   "outputs": [],
   "source": [
    "def calculateProbability(x, mean, stdev):\n",
    "    exponent = math.exp(-(math.pow(x-mean,2)/(2*math.pow(stdev,2))))\n",
    "    return (1/(math.sqrt(2*math.pi)*stdev))*exponent"
   ]
  },
  {
   "cell_type": "code",
   "execution_count": 12,
   "metadata": {},
   "outputs": [],
   "source": [
    "def mean(numbers):\n",
    "    return sum(numbers)/float(len(numbers))\n",
    "\n",
    "def stdev(numbers):\n",
    "    avg = mean(numbers)\n",
    "    variance = sum([pow(x-avg,2) for x in numbers])/float(len(numbers)-1)\n",
    "    return math.sqrt(variance)\n",
    "\n",
    "def summarize(nums):\n",
    "    summaries = [mean(nums), stdev(nums)]\n",
    "    return summaries"
   ]
  },
  {
   "cell_type": "code",
   "execution_count": 13,
   "metadata": {},
   "outputs": [],
   "source": [
    "# def mainBodEffsplit1():\n",
    "#     x, y = loadBodeff()\n",
    "#     xx, xxx, yy, yyy = splitData1(x, y)\n",
    "#     df = separateByClass(yy, xx)\n",
    "#     finals = count_class_in_feature(df)\n",
    "#     probfeat, probclass = prob_class_feat(finals, df)\n",
    "#     new = calc_priors(df,finals)\n",
    "#     output = naive('Energetic, Happy, Relaxed, Hungry',probfeat, probclass, new)\n",
    "#     return (output)\n",
    "# def mainBodEffsplit2():\n",
    "#     x, y = loadBodeff()\n",
    "#     xx, xxx, yy, yyy = splitData2(x, y)\n",
    "#     df = separateByClass(yy, xx)\n",
    "#     finals = count_class_in_feature(df)\n",
    "#     probfeat, probclass = prob_class_feat(finals, df)\n",
    "#     new = calc_priors(df,finals)\n",
    "#     output = naive('Energetic, Happy, Relaxed, Hungry',probfeat, probclass, new)\n",
    "#     return (output)\n",
    "# def mainTypesplit1():\n",
    "#     x, y = loadType()\n",
    "#     xx, xxx, yy, yyy = splitData1(x, y)\n",
    "#     df = separateByClass(yy, xx)\n",
    "#     finals = count_class_in_feature(df)\n",
    "#     probfeat, probclass = prob_class_feat(finals, df)\n",
    "#     new = calc_priors(df,finals)\n",
    "#     output = naive('Hybrid',probfeat, probclass, new)\n",
    "#     return (output)\n",
    "# def mainTypesplit2():\n",
    "#     x, y = loadType()\n",
    "#     xx, xxx, yy, yyy = splitData2(x, y)\n",
    "#     df = separateByClass(yy, xx)\n",
    "#     finals = count_class_in_feature(df)\n",
    "#     probfeat, probclass = prob_class_feat(finals, df)\n",
    "#     new = calc_priors(df,finals)\n",
    "#     output = naive('Sativa',probfeat, probclass, new)\n",
    "#     return (output)\n",
    "# def mainFlavoursplit1():\n",
    "#     x, y = loadFlavour()\n",
    "#     xx, xxx, yy, yyy = splitData1(x, y)\n",
    "#     df = separateByClass(yy, xx)\n",
    "#     finals = count_class_in_feature(df)\n",
    "#     probfeat, probclass = prob_class_feat(finals, df)\n",
    "#     new = calc_priors(df,finals)\n",
    "#     output = naive('Earthy, Woody, Citrus',probfeat, probclass, new)\n",
    "#     return (output)\n",
    "# def mainFlavoursplit2():\n",
    "#     x, y = loadFlavour()\n",
    "#     xx, xxx, yy, yyy = splitData2(x, y)\n",
    "#     df = separateByClass(yy, xx)\n",
    "#     finals = count_class_in_feature(df)\n",
    "#     probfeat, probclass = prob_class_feat(finals, df)\n",
    "#     new = calc_priors(df,finals)\n",
    "#     output = naive('Earthy, Woody, Citrus',probfeat, probclass, new)\n",
    "#     return(output)"
   ]
  },
  {
   "cell_type": "code",
   "execution_count": null,
   "metadata": {},
   "outputs": [],
   "source": []
  },
  {
   "cell_type": "code",
   "execution_count": 121,
   "metadata": {},
   "outputs": [],
   "source": [
    "def mainTestBodEffsplit1():\n",
    "    x, y = loadType()\n",
    "    xTrain, xTest, yTrain, yTest = splitData1(x, y)\n",
    "    df = separateByClass(yTest, xTest)\n",
    "    finals = count_class_in_feature(df)\n",
    "    probfeat, probclass = prob_class_feat(finals, df)\n",
    "    priorx, number = calc_priors(df,finals)\n",
    "    \n",
    "    for x in xTest:\n",
    "        print(x)\n",
    "        output = naive(x, number, probfeat, probclass, priorx)\n",
    "        return(output)\n",
    "        \n",
    "def mainTestBodEffsplit2():\n",
    "    x, y = loadBodeff()\n",
    "    xx, xxx, yy, yyy = splitData2(x, y)\n",
    "    df = separateByClass(yy, xx)\n",
    "    finals = count_class_in_feature(df)\n",
    "    probfeat, probclass = prob_class_feat(finals, df)\n",
    "    new = calc_priors(df,finals)\n",
    "    output = naive('Energetic, Happy, Relaxed, Hungry',probfeat, probclass, new)\n",
    "    return (output)\n",
    "def mainTestTypesplit1():\n",
    "    x, y = loadType()\n",
    "    xx, xxx, yy, yyy = splitData1(x, y)\n",
    "    df = separateByClass(yy, xx)\n",
    "    finals = count_class_in_feature(df)\n",
    "    probfeat, probclass = prob_class_feat(finals, df)\n",
    "    new = calc_priors(df,finals)\n",
    "    output = naive('Hybrid',probfeat, probclass, new)\n",
    "    return (output)\n",
    "def mainTestTypesplit2():\n",
    "    x, y = loadType()\n",
    "    xx, xxx, yy, yyy = splitData2(x, y)\n",
    "    df = separateByClass(yy, xx)\n",
    "    finals = count_class_in_feature(df)\n",
    "    probfeat, probclass = prob_class_feat(finals, df)\n",
    "    new = calc_priors(df,finals)\n",
    "    output = naive('Sativa',probfeat, probclass, new)\n",
    "    return (output)\n",
    "def mainTestFlavoursplit1():\n",
    "    x, y = loadFlavour()\n",
    "    xx, xxx, yy, yyy = splitData1(x, y)\n",
    "    df = separateByClass(yy, xx)\n",
    "    finals = count_class_in_feature(df)\n",
    "    probfeat, probclass = prob_class_feat(finals, df)\n",
    "    new = calc_priors(df,finals)\n",
    "    output = naive('Earthy, Woody, Citrus',probfeat, probclass, new)\n",
    "    return (output)\n",
    "def mainTestFlavoursplit2():\n",
    "    x, y = loadFlavour()\n",
    "    xx, xxx, yy, yyy = splitData2(x, y)\n",
    "    df = separateByClass(yy, xx)\n",
    "    finals = count_class_in_feature(df)\n",
    "    probfeat, probclass = prob_class_feat(finals, df)\n",
    "    new = calc_priors(df,finals)\n",
    "    output = naive('Earthy, Woody, Citrus',probfeat, probclass, new)\n",
    "    return(output)"
   ]
  },
  {
   "cell_type": "code",
   "execution_count": 135,
   "metadata": {
    "scrolled": true
   },
   "outputs": [
    {
     "name": "stdout",
     "output_type": "stream",
     "text": [
      "sativa\n"
     ]
    },
    {
     "data": {
      "text/plain": [
       "'None'"
      ]
     },
     "execution_count": 135,
     "metadata": {},
     "output_type": "execute_result"
    }
   ],
   "source": [
    "mainTestBodEffsplit1()"
   ]
  },
  {
   "cell_type": "code",
   "execution_count": null,
   "metadata": {},
   "outputs": [],
   "source": [
    "mainBodEffsplit2()"
   ]
  },
  {
   "cell_type": "code",
   "execution_count": null,
   "metadata": {},
   "outputs": [],
   "source": [
    "mainFlavoursplit1()"
   ]
  },
  {
   "cell_type": "code",
   "execution_count": null,
   "metadata": {},
   "outputs": [],
   "source": [
    "mainFlavoursplit2()"
   ]
  },
  {
   "cell_type": "code",
   "execution_count": null,
   "metadata": {},
   "outputs": [],
   "source": [
    "mainTypesplit1()"
   ]
  },
  {
   "cell_type": "code",
   "execution_count": null,
   "metadata": {},
   "outputs": [],
   "source": [
    "mainTypesplit2()"
   ]
  },
  {
   "cell_type": "code",
   "execution_count": null,
   "metadata": {},
   "outputs": [],
   "source": []
  }
 ],
 "metadata": {
  "kernelspec": {
   "display_name": "Python 3",
   "language": "python",
   "name": "python3"
  },
  "language_info": {
   "codemirror_mode": {
    "name": "ipython",
    "version": 3
   },
   "file_extension": ".py",
   "mimetype": "text/x-python",
   "name": "python",
   "nbconvert_exporter": "python",
   "pygments_lexer": "ipython3",
   "version": "3.6.4"
  }
 },
 "nbformat": 4,
 "nbformat_minor": 2
}
